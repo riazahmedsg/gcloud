{
  "nbformat": 4,
  "nbformat_minor": 0,
  "metadata": {
    "colab": {
      "provenance": [],
      "collapsed_sections": [
        "wHCxLJjrePnO",
        "ulLe7LGOeiJT"
      ],
      "authorship_tag": "ABX9TyO+zmblPWmH0cDUa8MhcBdb",
      "include_colab_link": true
    },
    "kernelspec": {
      "name": "python3",
      "display_name": "Python 3"
    },
    "language_info": {
      "name": "python"
    }
  },
  "cells": [
    {
      "cell_type": "markdown",
      "metadata": {
        "id": "view-in-github",
        "colab_type": "text"
      },
      "source": [
        "<a href=\"https://colab.research.google.com/github/riazahmedsg/gcloud/blob/main/GColab.ipynb\" target=\"_parent\"><img src=\"https://colab.research.google.com/assets/colab-badge.svg\" alt=\"Open In Colab\"/></a>"
      ]
    },
    {
      "cell_type": "markdown",
      "source": [
        "# Agenda"
      ],
      "metadata": {
        "id": "wHCxLJjrePnO"
      }
    },
    {
      "cell_type": "markdown",
      "source": [
        "*   What is Google Colab?\n",
        "*   Why Google Colab?\n",
        "*   Hands On\n",
        "*   Conclusion"
      ],
      "metadata": {
        "id": "ILW-ZIY2nxbV"
      }
    },
    {
      "cell_type": "markdown",
      "source": [
        "# What is Google Colab (Google Colaboratory)"
      ],
      "metadata": {
        "id": "ulLe7LGOeiJT"
      }
    },
    {
      "cell_type": "markdown",
      "source": [
        "*   ## A free cloud-based platform provided by Google\n",
        "*   ## allows users to write and execute Python code in a Jupyter Notebook\n",
        "*   ## No need for any setup or configuration\n",
        "*   ## Powerful tool for data science, machine learning, and programming\n"
      ],
      "metadata": {
        "id": "YImkaQPpryzq"
      }
    },
    {
      "cell_type": "markdown",
      "source": [
        "# Why Google Colab"
      ],
      "metadata": {
        "id": "196Q8H6Sdozd"
      }
    },
    {
      "cell_type": "markdown",
      "source": [
        "##Allows you to write and execute Python in your browser, with\n",
        "*   ## Zero configuration required\n",
        "*   ## Access to GPUs / TPUs free of charge\n",
        "*   ## Easy sharing (Google Drive / Github)"
      ],
      "metadata": {
        "id": "AH-gEXmzs5lP"
      }
    },
    {
      "cell_type": "markdown",
      "source": [
        "# **HandsOn**"
      ],
      "metadata": {
        "id": "P24V1qNhfBi8"
      }
    },
    {
      "cell_type": "markdown",
      "source": [
        "*   ### Create a new Google Colab\n",
        "*   ### Create New Cells\n",
        "    *   ### Text Cell (Markdown Cell)\n",
        "    *   ### Code Cell\n",
        "*   ### Run a Code Cell\n",
        "*   ### Execution History\n",
        "*   ### Menu Options\n",
        "*   ### Command Palette\n",
        "*   ### Save a Google Colab\n",
        "*   ### Share Google Colab\n",
        "*   ### Organization: Create Table of Contents"
      ],
      "metadata": {
        "id": "K1z1j4FbuW4y"
      }
    }
  ]
}