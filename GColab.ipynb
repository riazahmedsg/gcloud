{
  "nbformat": 4,
  "nbformat_minor": 0,
  "metadata": {
    "colab": {
      "provenance": [],
      "authorship_tag": "ABX9TyPHwxYTfj1kdNR0dWKD+HjQ",
      "include_colab_link": true
    },
    "kernelspec": {
      "name": "python3",
      "display_name": "Python 3"
    },
    "language_info": {
      "name": "python"
    }
  },
  "cells": [
    {
      "cell_type": "markdown",
      "metadata": {
        "id": "view-in-github",
        "colab_type": "text"
      },
      "source": [
        "<a href=\"https://colab.research.google.com/github/riazahmedsg/gcloud/blob/main/GColab.ipynb\" target=\"_parent\"><img src=\"https://colab.research.google.com/assets/colab-badge.svg\" alt=\"Open In Colab\"/></a>"
      ]
    },
    {
      "cell_type": "markdown",
      "source": [
        "# Agenda"
      ],
      "metadata": {
        "id": "wHCxLJjrePnO"
      }
    },
    {
      "cell_type": "markdown",
      "source": [
        "*   What is Google Colab?\n",
        "*   Why Google Colab?\n",
        "*   Hands On\n",
        "*   Conclusion"
      ],
      "metadata": {
        "id": "ILW-ZIY2nxbV"
      }
    },
    {
      "cell_type": "markdown",
      "source": [
        "# What is Google Colab (Google Colaboratory)"
      ],
      "metadata": {
        "id": "ulLe7LGOeiJT"
      }
    },
    {
      "cell_type": "markdown",
      "source": [
        "*   ## A free cloud-based platform provided by Google\n",
        "*   ## allows users to write and execute Python code in a Jupyter Notebook\n",
        "*   ## No need for any setup or configuration\n",
        "*   ## Powerful tool for data science, machine learning, and programming\n"
      ],
      "metadata": {
        "id": "YImkaQPpryzq"
      }
    },
    {
      "cell_type": "markdown",
      "source": [
        "# Why Google Colab"
      ],
      "metadata": {
        "id": "196Q8H6Sdozd"
      }
    },
    {
      "cell_type": "markdown",
      "source": [
        "##Allows you to write and execute Python in your browser, with\n",
        "*   ## Zero configuration required\n",
        "*   ## Access to GPUs / TPUs free of charge\n",
        "*   ## Easy sharing (Google Drive / Github)"
      ],
      "metadata": {
        "id": "AH-gEXmzs5lP"
      }
    },
    {
      "cell_type": "markdown",
      "source": [
        "# **HandsOn**"
      ],
      "metadata": {
        "id": "P24V1qNhfBi8"
      }
    },
    {
      "cell_type": "markdown",
      "source": [
        "*   ### Create a new Google Colab\n",
        "*   ### Create New Cells\n",
        "    *   ### Text Cell (Markdown Cell)\n",
        "    *   ### Code Cell\n",
        "*   ### Run a Code Cell\n",
        "*   ### Execution History\n",
        "*   ### Menu Options\n",
        "*   ### Command Palette\n",
        "*   ### Save a Google Colab\n",
        "*   ### Share Google Colab\n",
        "*   ### Organization: Create Table of Contents"
      ],
      "metadata": {
        "id": "K1z1j4FbuW4y"
      }
    },
    {
      "cell_type": "markdown",
      "source": [
        "# Organization: Create Table of Contents"
      ],
      "metadata": {
        "id": "3FVmdVkR7YW3"
      }
    },
    {
      "cell_type": "markdown",
      "source": [
        "## Ingest"
      ],
      "metadata": {
        "id": "ekgFaoWB98yc"
      }
    },
    {
      "cell_type": "code",
      "source": [
        "4+3"
      ],
      "metadata": {
        "id": "4XE1jxp0-KKK",
        "colab": {
          "base_uri": "https://localhost:8080/"
        },
        "outputId": "9384b622-12e0-4995-dc73-c8875aa3a414"
      },
      "execution_count": null,
      "outputs": [
        {
          "output_type": "execute_result",
          "data": {
            "text/plain": [
              "7"
            ]
          },
          "metadata": {},
          "execution_count": 1
        }
      ]
    },
    {
      "cell_type": "code",
      "source": [],
      "metadata": {
        "id": "tpz4CXjLQH7L"
      },
      "execution_count": null,
      "outputs": []
    },
    {
      "cell_type": "code",
      "source": [],
      "metadata": {
        "id": "1a-XP95SalC6"
      },
      "execution_count": null,
      "outputs": []
    },
    {
      "cell_type": "markdown",
      "source": [
        "❎\n"
      ],
      "metadata": {
        "id": "buP9q2Q0QLpr"
      }
    },
    {
      "cell_type": "code",
      "source": [
        "seconds_in_a_day = 24 * 60 * 60\n",
        "seconds_in_a_day"
      ],
      "metadata": {
        "colab": {
          "base_uri": "https://localhost:8080/"
        },
        "id": "zn8zRVLQJtB3",
        "outputId": "2c3960cf-4238-400f-918e-6c060d144baf"
      },
      "execution_count": null,
      "outputs": [
        {
          "output_type": "execute_result",
          "data": {
            "text/plain": [
              "86400"
            ]
          },
          "metadata": {},
          "execution_count": 4
        }
      ]
    },
    {
      "cell_type": "code",
      "source": [
        "!ls\n"
      ],
      "metadata": {
        "colab": {
          "base_uri": "https://localhost:8080/"
        },
        "id": "GOoTMDhmSoF8",
        "outputId": "e98abbca-2964-45fb-bd48-455a3f43e49f"
      },
      "execution_count": null,
      "outputs": [
        {
          "output_type": "stream",
          "name": "stdout",
          "text": [
            "sample_data\n"
          ]
        }
      ]
    },
    {
      "cell_type": "markdown",
      "source": [
        "## EDA"
      ],
      "metadata": {
        "id": "vZH-7ciH9_fz"
      }
    },
    {
      "cell_type": "code",
      "source": [],
      "metadata": {
        "id": "54GIJJtb-Kym"
      },
      "execution_count": null,
      "outputs": []
    },
    {
      "cell_type": "markdown",
      "source": [
        "## Modelling"
      ],
      "metadata": {
        "id": "XFQy1Laf-B1Y"
      }
    },
    {
      "cell_type": "code",
      "source": [],
      "metadata": {
        "id": "PY5XEHB1-LSb"
      },
      "execution_count": null,
      "outputs": []
    },
    {
      "cell_type": "markdown",
      "source": [
        "# Conclusion"
      ],
      "metadata": {
        "id": "tTkaCzKK-EJ8"
      }
    },
    {
      "cell_type": "markdown",
      "source": [
        "Whether you're a student, a data scientist or an AI researcher, Colab can make your work easier"
      ],
      "metadata": {
        "id": "cndnBXsTvdsQ"
      }
    },
    {
      "cell_type": "code",
      "source": [],
      "metadata": {
        "id": "gplo4FsN-L3s"
      },
      "execution_count": null,
      "outputs": []
    }
  ]
}